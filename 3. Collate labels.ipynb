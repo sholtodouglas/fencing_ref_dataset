{
 "cells": [
  {
   "cell_type": "code",
   "execution_count": 7,
   "id": "69c1e315",
   "metadata": {},
   "outputs": [
    {
     "data": {
      "text/plain": [
       "14915"
      ]
     },
     "execution_count": 7,
     "metadata": {},
     "output_type": "execute_result"
    }
   ],
   "source": [
    "import json\n",
    "import os\n",
    "\n",
    "full_dictionary = {}\n",
    "stats = []\n",
    "labels = {'left':0, 'right':0, 'together': 0}\n",
    "for f in os.listdir(\"per_vid_labels\"):\n",
    "    with open(f'per_vid_labels/{f}') as f:\n",
    "        data = json.load(f)\n",
    "        for k,v in data.items():\n",
    "            full_dictionary[k] = v\n",
    "            labels[v['annotations']['label']] += 1\n",
    "        stats.append(len(data.items()))\n",
    "\n",
    "            \n",
    "len(full_dictionary)"
   ]
  },
  {
   "cell_type": "code",
   "execution_count": 3,
   "id": "c508a187",
   "metadata": {},
   "outputs": [
    {
     "data": {
      "text/plain": [
       "{'left': 4803, 'right': 5067, 'together': 4774}"
      ]
     },
     "execution_count": 3,
     "metadata": {},
     "output_type": "execute_result"
    }
   ],
   "source": [
    "labels"
   ]
  },
  {
   "cell_type": "code",
   "execution_count": 4,
   "id": "a32258e8",
   "metadata": {},
   "outputs": [
    {
     "data": {
      "text/plain": [
       "(array([279., 431., 779., 298., 108.,  21.,   3.,   0.,   0.,   1.]),\n",
       " array([ 0. ,  3.5,  7. , 10.5, 14. , 17.5, 21. , 24.5, 28. , 31.5, 35. ]),\n",
       " <BarContainer object of 10 artists>)"
      ]
     },
     "execution_count": 4,
     "metadata": {},
     "output_type": "execute_result"
    },
    {
     "data": {
      "image/png": "[encoded data removed]",
      "text/plain": [
       "<Figure size 432x288 with 1 Axes>"
      ]
     },
     "metadata": {
      "needs_background": "light"
     },
     "output_type": "display_data"
    }
   ],
   "source": [
    "import matplotlib.pyplot as plt\n",
    "plt.hist(stats)"
   ]
  },
  {
   "cell_type": "code",
   "execution_count": null,
   "id": "3456d3ad",
   "metadata": {},
   "outputs": [],
   "source": []
  },
  {
   "cell_type": "code",
   "execution_count": 8,
   "id": "c232c543",
   "metadata": {},
   "outputs": [
    {
     "data": {
      "text/plain": [
       "991"
      ]
     },
     "execution_count": 8,
     "metadata": {},
     "output_type": "execute_result"
    }
   ],
   "source": [
    "len(os.listdir(\"per_vid_labels\"))"
   ]
  },
  {
   "cell_type": "code",
   "execution_count": 5,
   "id": "eef3955f",
   "metadata": {},
   "outputs": [
    {
     "data": {
      "text/plain": [
       "10200.0"
      ]
     },
     "execution_count": 5,
     "metadata": {},
     "output_type": "execute_result"
    }
   ],
   "source": []
  },
  {
   "cell_type": "code",
   "execution_count": null,
   "id": "49406920",
   "metadata": {},
   "outputs": [],
   "source": []
  }
 ],
 "metadata": {
  "kernelspec": {
   "display_name": "Python 3",
   "language": "python",
   "name": "python3"
  },
  "language_info": {
   "codemirror_mode": {
    "name": "ipython",
    "version": 3
   },
   "file_extension": ".py",
   "mimetype": "text/x-python",
   "name": "python",
   "nbconvert_exporter": "python",
   "pygments_lexer": "ipython3",
   "version": "3.8.8"
  }
 },
 "nbformat": 4,
 "nbformat_minor": 5
}
