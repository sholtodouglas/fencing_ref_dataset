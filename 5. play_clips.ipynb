{
 "cells": [
  {
   "cell_type": "code",
   "execution_count": 1,
   "id": "277217db",
   "metadata": {},
   "outputs": [],
   "source": [
    "import os\n",
    "os.makedirs('test', exist_ok=True)"
   ]
  },
  {
   "cell_type": "code",
   "execution_count": 2,
   "id": "4b33b33c",
   "metadata": {},
   "outputs": [],
   "source": [
    "import cv2 as cv\n",
    "import time\n",
    "import json\n",
    "\n",
    "class clip:\n",
    "#     vid_id: str,\n",
    "#     label: str,\n",
    "#     start: float,\n",
    "#     end: float,\n",
    "#     start_frame: int,\n",
    "#     end_frame: int,\n",
    "        \n",
    "    def __init__(self, vid_id, start_frame, end_frame, final_img = None, label=None):\n",
    "        self.vid_id = vid_id\n",
    "        self.start_frame = start_frame\n",
    "        self.end_frame = end_frame\n",
    "        if final_img is not None:\n",
    "            self.final_img = final_img\n",
    "        self.label = label\n",
    "        \n",
    "        \n",
    "def play_clip(clip):\n",
    "    print(clip.label)\n",
    "    v= f'tests/{clip.vid_id}'\n",
    "    print(v, clip.end_frame)\n",
    "    cap = cv.VideoCapture(v)\n",
    "    cap.set(cv.CAP_PROP_POS_FRAMES,clip.start_frame)\n",
    "    idx = 0\n",
    "    while cap.isOpened() and idx < clip.end_frame-clip.start_frame:\n",
    "        ret, frame = cap.read()\n",
    "        # if frame is read correctly ret is True\n",
    "        if not ret:\n",
    "            print(\"Can't receive frame (stream end?). Exiting ...\")\n",
    "            break\n",
    "        cv.imshow('frame', frame)\n",
    "        if cv.waitKey(1) == ord('q'):\n",
    "            break\n",
    "        idx += 1\n",
    "        time.sleep(0.025)"
   ]
  },
  {
   "cell_type": "code",
   "execution_count": 15,
   "id": "a7fb2a44",
   "metadata": {},
   "outputs": [],
   "source": [
    "from pytube import YouTube\n",
    "def check_vid(url):    \n",
    "    vid_id = url.split('watch?v=')[1]\n",
    "    if not os.path.exists(f\"tests//{vid_id}.mp4\"):\n",
    "        print(f\"Downloading clip to visualise {url}\")\n",
    "        video = YouTube(url)\n",
    "        video.streams.filter(file_extension='mp4', progressive=True, res='360p', fps=25)[0].download(output_path = 'tests', filename= vid_id, timeout=20)\n",
    "       "
   ]
  },
  {
   "cell_type": "code",
   "execution_count": 22,
   "id": "60e12bea",
   "metadata": {},
   "outputs": [
    {
     "data": {
      "text/plain": [
       "'bUStSjfDcdk.json'"
      ]
     },
     "execution_count": 22,
     "metadata": {},
     "output_type": "execute_result"
    }
   ],
   "source": [
    "import random\n",
    "sample = random.choice(os.listdir('per_vid_labels'))\n",
    "sample"
   ]
  },
  {
   "cell_type": "code",
   "execution_count": 25,
   "id": "aab18fa5",
   "metadata": {},
   "outputs": [],
   "source": [
    "sample = 'QdiXOCfTonQ.json'"
   ]
  },
  {
   "cell_type": "code",
   "execution_count": 27,
   "id": "32960d89",
   "metadata": {},
   "outputs": [
    {
     "name": "stdout",
     "output_type": "stream",
     "text": [
      "https://www.youtube.com/watch?v=QdiXOCfTonQ\n",
      "right\n",
      "tests/QdiXOCfTonQ.mp4 2458.0\n",
      "https://www.youtube.com/watch?v=QdiXOCfTonQ\n",
      "left\n",
      "tests/QdiXOCfTonQ.mp4 3589.0\n"
     ]
    },
    {
     "ename": "KeyboardInterrupt",
     "evalue": "",
     "output_type": "error",
     "traceback": [
      "\u001b[1;31m---------------------------------------------------------------------------\u001b[0m",
      "\u001b[1;31mKeyboardInterrupt\u001b[0m                         Traceback (most recent call last)",
      "\u001b[1;32m<ipython-input-27-f7df42cbad4f>\u001b[0m in \u001b[0;36m<module>\u001b[1;34m\u001b[0m\n\u001b[0;32m     11\u001b[0m         \u001b[0mend_frame\u001b[0m \u001b[1;33m=\u001b[0m \u001b[0mv\u001b[0m\u001b[1;33m[\u001b[0m\u001b[1;34m'annotations_frame'\u001b[0m\u001b[1;33m]\u001b[0m\u001b[1;33m[\u001b[0m\u001b[1;34m'segment'\u001b[0m\u001b[1;33m]\u001b[0m\u001b[1;33m[\u001b[0m\u001b[1;36m1\u001b[0m\u001b[1;33m]\u001b[0m\u001b[1;33m\u001b[0m\u001b[1;33m\u001b[0m\u001b[0m\n\u001b[0;32m     12\u001b[0m         \u001b[0mlabel\u001b[0m \u001b[1;33m=\u001b[0m \u001b[0mv\u001b[0m\u001b[1;33m[\u001b[0m\u001b[1;34m'annotations_frame'\u001b[0m\u001b[1;33m]\u001b[0m\u001b[1;33m[\u001b[0m\u001b[1;34m'label'\u001b[0m\u001b[1;33m]\u001b[0m\u001b[1;33m\u001b[0m\u001b[1;33m\u001b[0m\u001b[0m\n\u001b[1;32m---> 13\u001b[1;33m         \u001b[0mplay_clip\u001b[0m\u001b[1;33m(\u001b[0m\u001b[0mclip\u001b[0m\u001b[1;33m(\u001b[0m\u001b[0mvid_id\u001b[0m\u001b[1;33m,\u001b[0m \u001b[0mstart_frame\u001b[0m\u001b[1;33m,\u001b[0m \u001b[0mend_frame\u001b[0m\u001b[1;33m,\u001b[0m \u001b[0mlabel\u001b[0m\u001b[1;33m=\u001b[0m\u001b[0mlabel\u001b[0m\u001b[1;33m)\u001b[0m\u001b[1;33m)\u001b[0m\u001b[1;33m\u001b[0m\u001b[1;33m\u001b[0m\u001b[0m\n\u001b[0m",
      "\u001b[1;32m<ipython-input-2-8bc6f39f4d13>\u001b[0m in \u001b[0;36mplay_clip\u001b[1;34m(clip)\u001b[0m\n\u001b[0;32m     37\u001b[0m             \u001b[1;32mbreak\u001b[0m\u001b[1;33m\u001b[0m\u001b[1;33m\u001b[0m\u001b[0m\n\u001b[0;32m     38\u001b[0m         \u001b[0midx\u001b[0m \u001b[1;33m+=\u001b[0m \u001b[1;36m1\u001b[0m\u001b[1;33m\u001b[0m\u001b[1;33m\u001b[0m\u001b[0m\n\u001b[1;32m---> 39\u001b[1;33m         \u001b[0mtime\u001b[0m\u001b[1;33m.\u001b[0m\u001b[0msleep\u001b[0m\u001b[1;33m(\u001b[0m\u001b[1;36m0.025\u001b[0m\u001b[1;33m)\u001b[0m\u001b[1;33m\u001b[0m\u001b[1;33m\u001b[0m\u001b[0m\n\u001b[0m",
      "\u001b[1;31mKeyboardInterrupt\u001b[0m: "
     ]
    }
   ],
   "source": [
    "\n",
    "with open(f'per_vid_labels/{sample}') as f:\n",
    "    data = json.load(f)\n",
    "    if len(data) == 0:\n",
    "        print(\"No useful clips found in this vid\")\n",
    "    for k,v in data.items():\n",
    "        print(v['url'])\n",
    "        check_vid(v['url'])\n",
    "        \n",
    "        vid_id = \"\".join(k.rsplit('_',1)[0])+'.mp4'\n",
    "        start_frame = v['annotations_frame']['segment'][0]\n",
    "        end_frame = v['annotations_frame']['segment'][1]\n",
    "        label = v['annotations_frame']['label']\n",
    "        play_clip(clip(vid_id, start_frame, end_frame, label=label))"
   ]
  },
  {
   "cell_type": "code",
   "execution_count": 7,
   "id": "e272044d",
   "metadata": {},
   "outputs": [
    {
     "ename": "NameError",
     "evalue": "name 'v' is not defined",
     "output_type": "error",
     "traceback": [
      "\u001b[1;31m---------------------------------------------------------------------------\u001b[0m",
      "\u001b[1;31mNameError\u001b[0m                                 Traceback (most recent call last)",
      "\u001b[1;32m<ipython-input-7-9da14a2f21a7>\u001b[0m in \u001b[0;36m<module>\u001b[1;34m\u001b[0m\n\u001b[1;32m----> 1\u001b[1;33m \u001b[0mv\u001b[0m\u001b[1;33m[\u001b[0m\u001b[1;34m'url'\u001b[0m\u001b[1;33m]\u001b[0m\u001b[1;33m\u001b[0m\u001b[1;33m\u001b[0m\u001b[0m\n\u001b[0m",
      "\u001b[1;31mNameError\u001b[0m: name 'v' is not defined"
     ]
    }
   ],
   "source": [
    "v['url']"
   ]
  },
  {
   "cell_type": "code",
   "execution_count": null,
   "id": "57bf43d6",
   "metadata": {},
   "outputs": [],
   "source": []
  }
 ],
 "metadata": {
  "kernelspec": {
   "display_name": "Python 3",
   "language": "python",
   "name": "python3"
  },
  "language_info": {
   "codemirror_mode": {
    "name": "ipython",
    "version": 3
   },
   "file_extension": ".py",
   "mimetype": "text/x-python",
   "name": "python",
   "nbconvert_exporter": "python",
   "pygments_lexer": "ipython3",
   "version": "3.8.8"
  }
 },
 "nbformat": 4,
 "nbformat_minor": 5
}
