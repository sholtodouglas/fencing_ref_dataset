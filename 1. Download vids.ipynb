{
 "cells": [
  {
   "cell_type": "code",
   "execution_count": 51,
   "id": "0f49907f",
   "metadata": {},
   "outputs": [],
   "source": [
    "import os\n",
    "os.makedirs('precut', exist_ok=True)\n",
    "os.makedirs('scoreboard_classifier_data', exist_ok=True)"
   ]
  },
  {
   "cell_type": "code",
   "execution_count": 67,
   "id": "5356706d",
   "metadata": {},
   "outputs": [],
   "source": [
    "from pytube import YouTube\n",
    "## Run this to download all the videos from youtube.\n",
    "from threading import Thread\n",
    "import functools\n",
    "\n",
    "def dld(video):\n",
    "    if f\"{video.video_id}.mp4\" not in os.listdir('precut'):\n",
    "        print(f'dlding {video}')\n",
    "        video.streams.filter(file_extension='mp4', progressive=True, res='360p', fps=25)[0].download(output_path = 'staging', filename= video.video_id, timeout=100)\n",
    "        os.rename(f'staging/{video.video_id}.mp4',f'precut/{video.video_id}.mp4')\n",
    "def download_vid(i):\n",
    "    dld(YouTube(i))\n",
    "\n",
    "\n",
    "from pytube import Playlist    \n",
    "def download_playlist(p):\n",
    "    p = Playlist(p)\n",
    "    for video in p.videos:\n",
    "        dld(video)"
   ]
  },
  {
   "cell_type": "code",
   "execution_count": 61,
   "id": "888063f3",
   "metadata": {},
   "outputs": [
    {
     "data": {
      "text/plain": [
       "['-bD8qlI-pxs.mp4',\n",
       " '-O0cx9-B1kg.mp4',\n",
       " '3UYh7vpTjSo.mp4',\n",
       " '3Z_ZbOVXO9g.mp4',\n",
       " '4CzDjfVy-JU.mp4',\n",
       " '9GobTAFB0jo.mp4',\n",
       " 'AViNJ6u6cLE.mp4',\n",
       " 'Cd53w4IhlxA.mp4',\n",
       " 'cSeRc_ngBfs.mp4',\n",
       " 'dUens_qSmR8.mp4',\n",
       " 'eWk-APfjbJg.mp4',\n",
       " 'Fndq860ajtI.mp4',\n",
       " 'k3XcitBq1aA.mp4',\n",
       " 'kBgD2adJTe4.mp4',\n",
       " 'KIeMeOIieNo.mp4',\n",
       " 'l5gjHkQZc_U.mp4',\n",
       " 'm9YTDv9rrBg.mp4',\n",
       " 'NovkJdt8UDA.mp4',\n",
       " 'OUWA9WqfIVA.mp4',\n",
       " 'Q-26NGdiscI.mp4',\n",
       " 'QdiXOCfTonQ.mp4',\n",
       " 'QtIRj_fkhzk.mp4',\n",
       " 'R83fU3cfqh0.mp4',\n",
       " 'rcdFjEg221U.mp4',\n",
       " 'rSsw2SsE7hc.mp4',\n",
       " 'UpklSYQzveA.mp4',\n",
       " 'voGMhW9-5fk.mp4',\n",
       " 'wPvXuuxUQAw.mp4',\n",
       " 'x-8pkZfG0IU.mp4',\n",
       " '_Z7qSPWwN80.mp4']"
      ]
     },
     "execution_count": 61,
     "metadata": {},
     "output_type": "execute_result"
    }
   ],
   "source": [
    "os.listdir('precut')"
   ]
  },
  {
   "cell_type": "code",
   "execution_count": null,
   "id": "050e69ee",
   "metadata": {
    "scrolled": true
   },
   "outputs": [
    {
     "name": "stdout",
     "output_type": "stream",
     "text": [
      "First 3 links: ['https://www.youtube.com/playlist?list=PL_pQQho0KExxrEVpkaEDQsDO9klxySCS5', 'https://www.youtube.com/playlist?list=PL_pQQho0KExy7-82T9HpN_mFh83f__SGG', 'https://www.youtube.com/playlist?list=PL_pQQho0KExwzqFlkksuQNcF-KJlTbkiM']\n",
      "dlding <pytube.__main__.YouTube object: videoId=ii0zAOaeZD4>\n",
      "dlding <pytube.__main__.YouTube object: videoId=OPKJtRxwd5U>\n",
      "dlding <pytube.__main__.YouTube object: videoId=4mnW9NLE71I>\n",
      "dlding <pytube.__main__.YouTube object: videoId=BoyV232_Hr4>\n",
      "dlding <pytube.__main__.YouTube object: videoId=eola32yKxg4>\n",
      "dlding <pytube.__main__.YouTube object: videoId=AwUED2lh-XA>\n",
      "dlding <pytube.__main__.YouTube object: videoId=Ktga_lTQ9ic>\n",
      "dlding <pytube.__main__.YouTube object: videoId=f6-lRgQ6KjQ>\n",
      "dlding <pytube.__main__.YouTube object: videoId=9G_CBl3qY2U>\n",
      "dlding <pytube.__main__.YouTube object: videoId=eg_z7UEbK28>\n",
      "dlding <pytube.__main__.YouTube object: videoId=vPFCC8IQsCQ>\n",
      "dlding <pytube.__main__.YouTube object: videoId=NEaKCMXYKfY>\n",
      "dlding <pytube.__main__.YouTube object: videoId=K2_09GWFEV4>\n",
      "dlding <pytube.__main__.YouTube object: videoId=PDa4WyiLJq0>\n",
      "dlding <pytube.__main__.YouTube object: videoId=ke0uKKGN3F0>\n",
      "dlding <pytube.__main__.YouTube object: videoId=uj3AeL1PE5k>\n",
      "dlding <pytube.__main__.YouTube object: videoId=h0H5zplyYjA>\n",
      "dlding <pytube.__main__.YouTube object: videoId=z8oa8rj9B08>\n",
      "dlding <pytube.__main__.YouTube object: videoId=vOU-gMnArb8>\n"
     ]
    }
   ],
   "source": [
    "text_file = open(\"playlists.txt\", \"r\")\n",
    "playlists = text_file.read().split('\\n')\n",
    "print(\"First 3 links:\", playlists[:3])\n",
    "text_file.close()\n",
    "\n",
    "for p in playlists:\n",
    "    download_playlist(p)"
   ]
  },
  {
   "cell_type": "code",
   "execution_count": null,
   "id": "067e472e",
   "metadata": {},
   "outputs": [],
   "source": []
  }
 ],
 "metadata": {
  "kernelspec": {
   "display_name": "Python 3",
   "language": "python",
   "name": "python3"
  },
  "language_info": {
   "codemirror_mode": {
    "name": "ipython",
    "version": 3
   },
   "file_extension": ".py",
   "mimetype": "text/x-python",
   "name": "python",
   "nbconvert_exporter": "python",
   "pygments_lexer": "ipython3",
   "version": "3.8.8"
  }
 },
 "nbformat": 4,
 "nbformat_minor": 5
}
