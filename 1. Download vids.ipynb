{
 "cells": [
  {
   "cell_type": "code",
   "execution_count": 1,
   "id": "0f49907f",
   "metadata": {},
   "outputs": [],
   "source": [
    "import os\n",
    "from tqdm import tqdm\n",
    "os.makedirs('precut', exist_ok=True)\n",
    "os.makedirs('scoreboard_classifier_data', exist_ok=True)"
   ]
  },
  {
   "cell_type": "code",
   "execution_count": 2,
   "id": "63863789",
   "metadata": {},
   "outputs": [],
   "source": [
    "\n",
    "from threading import Thread\n",
    "import functools\n",
    "\n",
    "def timeout(timeout):\n",
    "    def deco(func):\n",
    "        @functools.wraps(func)\n",
    "        def wrapper(*args, **kwargs):\n",
    "            res = [Exception('function [%s] timeout [%s seconds] exceeded!' % (func.__name__, timeout))]\n",
    "            def newFunc():\n",
    "                try:\n",
    "                    res[0] = func(*args, **kwargs)\n",
    "                except Exception as e:\n",
    "                    res[0] = e\n",
    "            t = Thread(target=newFunc)\n",
    "            t.daemon = True\n",
    "            try:\n",
    "                t.start()\n",
    "                t.join(timeout)\n",
    "            except Exception as je:\n",
    "                print ('error starting thread')\n",
    "                raise je\n",
    "            ret = res[0]\n",
    "            if isinstance(ret, BaseException):\n",
    "                raise ret\n",
    "            return ret\n",
    "        return wrapper\n",
    "    return deco"
   ]
  },
  {
   "cell_type": "code",
   "execution_count": 3,
   "id": "5356706d",
   "metadata": {},
   "outputs": [],
   "source": [
    "from pytube import YouTube\n",
    "## Run this to download all the videos from youtube.\n",
    "\n",
    "@timeout(60)\n",
    "def dld(video):\n",
    "    if (f\"{video.video_id}.mp4\" not in os.listdir('precut')) and (f\"{video.video_id}.json\" not in os.listdir('per_vid_labels')):\n",
    "        print(f'dlding {video}')\n",
    "        video.streams.filter(file_extension='mp4', progressive=True, res='360p', fps=25)[0].download(output_path = 'staging', filename= video.video_id, timeout=100)\n",
    "        os.rename(f'staging/{video.video_id}.mp4',f'precut/{video.video_id}.mp4')\n",
    "\n",
    "\n",
    "def download_vid(i):\n",
    "    dld(YouTube(i))\n",
    "\n",
    "\n",
    "from pytube import Playlist    \n",
    "def download_playlist(p):\n",
    "    p = Playlist(p)\n",
    "    for video in p.videos:\n",
    "        try:\n",
    "            \n",
    "            dld(video)\n",
    "        except Exception as e:\n",
    "            print(e)"
   ]
  },
  {
   "cell_type": "code",
   "execution_count": 4,
   "id": "050e69ee",
   "metadata": {
    "scrolled": true
   },
   "outputs": [
    {
     "name": "stderr",
     "output_type": "stream",
     "text": [
      "\r",
      "  0%|                                                                                                        | 0/38 [00:00<?, ?it/s]"
     ]
    },
    {
     "name": "stdout",
     "output_type": "stream",
     "text": [
      "First 3 links: ['https://www.youtube.com/playlist?list=PL_pQQho0KExxrEVpkaEDQsDO9klxySCS5', 'https://www.youtube.com/playlist?list=PL_pQQho0KExwmLUJC1hYtPIFoBV49Imf_', 'https://www.youtube.com/playlist?list=PL_pQQho0KExwmv99knPlVxIF_A5I9DQrf']\n",
      "https://www.youtube.com/playlist?list=PL_pQQho0KExxrEVpkaEDQsDO9klxySCS5\n"
     ]
    },
    {
     "name": "stderr",
     "output_type": "stream",
     "text": [
      "\r",
      "  3%|██▌                                                                                             | 1/38 [00:01<00:45,  1.23s/it]"
     ]
    },
    {
     "name": "stdout",
     "output_type": "stream",
     "text": [
      "https://www.youtube.com/playlist?list=PL_pQQho0KExwmLUJC1hYtPIFoBV49Imf_\n"
     ]
    },
    {
     "name": "stderr",
     "output_type": "stream",
     "text": [
      "\r",
      "  5%|█████                                                                                           | 2/38 [00:03<01:07,  1.87s/it]"
     ]
    },
    {
     "name": "stdout",
     "output_type": "stream",
     "text": [
      "https://www.youtube.com/playlist?list=PL_pQQho0KExwmv99knPlVxIF_A5I9DQrf\n"
     ]
    },
    {
     "name": "stderr",
     "output_type": "stream",
     "text": [
      "\r",
      "  8%|███████▌                                                                                        | 3/38 [00:04<00:57,  1.65s/it]"
     ]
    },
    {
     "name": "stdout",
     "output_type": "stream",
     "text": [
      "https://www.youtube.com/playlist?list=PL_pQQho0KExzezB0xlbRPWrmPWmdg2iCQ\n"
     ]
    },
    {
     "name": "stderr",
     "output_type": "stream",
     "text": [
      "\r",
      " 11%|██████████                                                                                      | 4/38 [00:08<01:22,  2.44s/it]"
     ]
    },
    {
     "name": "stdout",
     "output_type": "stream",
     "text": [
      "https://www.youtube.com/playlist?list=PL_pQQho0KExxO6dnXYmfffIt5bwhNeQZg\n"
     ]
    },
    {
     "name": "stderr",
     "output_type": "stream",
     "text": [
      "\r",
      " 13%|████████████▋                                                                                   | 5/38 [00:12<01:43,  3.15s/it]"
     ]
    },
    {
     "name": "stdout",
     "output_type": "stream",
     "text": [
      "https://www.youtube.com/playlist?list=PL_pQQho0KExytsIT-UbwISOnPiKtw-YNC\n"
     ]
    },
    {
     "name": "stderr",
     "output_type": "stream",
     "text": [
      "\r",
      " 16%|███████████████▏                                                                                | 6/38 [00:18<02:04,  3.91s/it]"
     ]
    },
    {
     "name": "stdout",
     "output_type": "stream",
     "text": [
      "https://www.youtube.com/playlist?list=PL_pQQho0KExwndXu_hLKw7JCosdhaiRdg\n"
     ]
    },
    {
     "name": "stderr",
     "output_type": "stream",
     "text": [
      "\r",
      " 18%|█████████████████▋                                                                              | 7/38 [00:22<02:02,  3.95s/it]"
     ]
    },
    {
     "name": "stdout",
     "output_type": "stream",
     "text": [
      "https://www.youtube.com/playlist?list=PL_pQQho0KExzVy3k10qRjSnvStI3A7UJX\n"
     ]
    },
    {
     "name": "stderr",
     "output_type": "stream",
     "text": [
      "\r",
      " 21%|████████████████████▏                                                                           | 8/38 [00:31<02:49,  5.66s/it]"
     ]
    },
    {
     "name": "stdout",
     "output_type": "stream",
     "text": [
      "https://www.youtube.com/playlist?list=PL_pQQho0KExymzYEtGJgs9N36qfd8N4rI\n"
     ]
    },
    {
     "name": "stderr",
     "output_type": "stream",
     "text": [
      "\r",
      " 24%|██████████████████████▋                                                                         | 9/38 [00:37<02:42,  5.59s/it]"
     ]
    },
    {
     "name": "stdout",
     "output_type": "stream",
     "text": [
      "https://www.youtube.com/playlist?list=PL_pQQho0KExw7NH5nXoGjQiLUdwenqMtj\n"
     ]
    },
    {
     "name": "stderr",
     "output_type": "stream",
     "text": [
      "\r",
      " 26%|█████████████████████████                                                                      | 10/38 [00:41<02:27,  5.27s/it]"
     ]
    },
    {
     "name": "stdout",
     "output_type": "stream",
     "text": [
      "https://www.youtube.com/playlist?list=PL_pQQho0KExz4IWjBVht636lfRXHsuV6t\n",
      "dlding <pytube.__main__.YouTube object: videoId=BjU-60SlwHY>\n",
      "list index out of range\n",
      "dlding <pytube.__main__.YouTube object: videoId=FgvwcsMT-QE>\n",
      "list index out of range\n",
      "dlding <pytube.__main__.YouTube object: videoId=CU_kcezU0Eg>\n",
      "list index out of range\n",
      "dlding <pytube.__main__.YouTube object: videoId=brZNJV1ewIY>\n",
      "list index out of range\n",
      "dlding <pytube.__main__.YouTube object: videoId=V0ntzxEu2ng>\n",
      "list index out of range\n",
      "dlding <pytube.__main__.YouTube object: videoId=DbtbovVrfwQ>\n",
      "list index out of range\n",
      "dlding <pytube.__main__.YouTube object: videoId=dZ4wGHhTbD0>\n",
      "list index out of range\n",
      "dlding <pytube.__main__.YouTube object: videoId=Mp2sELd-4Sg>\n",
      "list index out of range\n",
      "dlding <pytube.__main__.YouTube object: videoId=MPwP9535oqc>\n",
      "list index out of range\n",
      "dlding <pytube.__main__.YouTube object: videoId=bpmPGE7R-8Q>\n",
      "list index out of range\n",
      "dlding <pytube.__main__.YouTube object: videoId=CK6-kL-M9jU>\n",
      "list index out of range\n",
      "dlding <pytube.__main__.YouTube object: videoId=jfhxeG-th5Q>\n",
      "list index out of range\n",
      "dlding <pytube.__main__.YouTube object: videoId=SzHoFb1z36o>\n",
      "list index out of range\n",
      "dlding <pytube.__main__.YouTube object: videoId=X-N7HlA-J9U>\n",
      "list index out of range\n",
      "dlding <pytube.__main__.YouTube object: videoId=QoKkHanoI7Q>\n",
      "list index out of range\n",
      "dlding <pytube.__main__.YouTube object: videoId=Pibg6mjIND0>\n",
      "list index out of range\n",
      "dlding <pytube.__main__.YouTube object: videoId=lyUzYxaDQlw>\n",
      "list index out of range\n",
      "dlding <pytube.__main__.YouTube object: videoId=9Jjm3GoRFwg>\n",
      "list index out of range\n",
      "dlding <pytube.__main__.YouTube object: videoId=9wjg43I57r4>\n",
      "list index out of range\n",
      "dlding <pytube.__main__.YouTube object: videoId=X-rAkQlZK-U>\n",
      "list index out of range\n",
      "dlding <pytube.__main__.YouTube object: videoId=9HE-fFeM83g>\n",
      "list index out of range\n",
      "dlding <pytube.__main__.YouTube object: videoId=Opz1IwXMHJg>\n",
      "list index out of range\n",
      "dlding <pytube.__main__.YouTube object: videoId=5YdF8DE9sLc>\n"
     ]
    },
    {
     "name": "stderr",
     "output_type": "stream",
     "text": [
      "\r",
      " 29%|███████████████████████████▌                                                                   | 11/38 [02:24<15:46, 35.06s/it]"
     ]
    },
    {
     "name": "stdout",
     "output_type": "stream",
     "text": [
      "list index out of range\n",
      "https://www.youtube.com/playlist?list=PL_pQQho0KExy3q6RM0xuB-SepP4HwFpBR\n"
     ]
    },
    {
     "name": "stderr",
     "output_type": "stream",
     "text": [
      "\r",
      " 32%|██████████████████████████████                                                                 | 12/38 [02:28<11:07, 25.66s/it]"
     ]
    },
    {
     "name": "stdout",
     "output_type": "stream",
     "text": [
      "https://www.youtube.com/playlist?list=PL_pQQho0KExwk_wJdsKe9kL6LDD3INkmc\n"
     ]
    },
    {
     "name": "stderr",
     "output_type": "stream",
     "text": [
      "\r",
      " 34%|████████████████████████████████▌                                                              | 13/38 [02:32<07:59, 19.18s/it]"
     ]
    },
    {
     "name": "stdout",
     "output_type": "stream",
     "text": [
      "https://www.youtube.com/playlist?list=PL_pQQho0KExztXoOFoVT8_6-W1qW0ZHva\n"
     ]
    },
    {
     "name": "stderr",
     "output_type": "stream",
     "text": [
      "\r",
      " 37%|███████████████████████████████████                                                            | 14/38 [02:36<05:47, 14.47s/it]"
     ]
    },
    {
     "name": "stdout",
     "output_type": "stream",
     "text": [
      "https://www.youtube.com/playlist?list=PL_pQQho0KExwVUlv0NIXAUPQOTDvkeL_R\n"
     ]
    },
    {
     "name": "stderr",
     "output_type": "stream",
     "text": [
      "\r",
      " 39%|█████████████████████████████████████▌                                                         | 15/38 [02:39<04:13, 11.00s/it]"
     ]
    },
    {
     "name": "stdout",
     "output_type": "stream",
     "text": [
      "https://www.youtube.com/playlist?list=PL_pQQho0KExwEv8JTpF5wI5BYOSZm6MxO\n"
     ]
    },
    {
     "name": "stderr",
     "output_type": "stream",
     "text": [
      "\r",
      " 42%|████████████████████████████████████████                                                       | 16/38 [02:41<03:02,  8.30s/it]"
     ]
    },
    {
     "name": "stdout",
     "output_type": "stream",
     "text": [
      "https://www.youtube.com/playlist?list=PL_pQQho0KExytxsvklbkc7YiytGfBhE20\n"
     ]
    },
    {
     "name": "stderr",
     "output_type": "stream",
     "text": [
      "\r",
      " 45%|██████████████████████████████████████████▌                                                    | 17/38 [02:43<02:13,  6.33s/it]"
     ]
    },
    {
     "name": "stdout",
     "output_type": "stream",
     "text": [
      "https://www.youtube.com/playlist?list=PL_pQQho0KExzwjrfCK_Q6b0BUeXZKpUFH\n",
      "dlding <pytube.__main__.YouTube object: videoId=Wi-GKKEaRQI>\n",
      "list index out of range\n",
      "dlding <pytube.__main__.YouTube object: videoId=2NuM-XyI_Zw>\n",
      "list index out of range\n",
      "dlding <pytube.__main__.YouTube object: videoId=0MLxSZrkVUc>\n",
      "list index out of range\n",
      "dlding <pytube.__main__.YouTube object: videoId=McBuFSXGG4o>\n",
      "list index out of range\n",
      "dlding <pytube.__main__.YouTube object: videoId=LZoFm32pot4>\n"
     ]
    },
    {
     "name": "stderr",
     "output_type": "stream",
     "text": [
      "\r",
      " 47%|█████████████████████████████████████████████                                                  | 18/38 [02:57<02:52,  8.64s/it]"
     ]
    },
    {
     "name": "stdout",
     "output_type": "stream",
     "text": [
      "list index out of range\n",
      "https://www.youtube.com/playlist?list=PL_pQQho0KExygmENEsk_vVuK5soDHphYv\n",
      "dlding <pytube.__main__.YouTube object: videoId=3CcQAKKWidY>\n",
      "list index out of range\n",
      "dlding <pytube.__main__.YouTube object: videoId=BHCOlOXCZmE>\n",
      "list index out of range\n",
      "dlding <pytube.__main__.YouTube object: videoId=OurcH8EIqRQ>\n",
      "list index out of range\n",
      "dlding <pytube.__main__.YouTube object: videoId=EdRgODkQi1Q>\n",
      "list index out of range\n",
      "dlding <pytube.__main__.YouTube object: videoId=JFDj7iBob-I>\n",
      "list index out of range\n",
      "dlding <pytube.__main__.YouTube object: videoId=OSjyqFP77yM>\n",
      "list index out of range\n",
      "dlding <pytube.__main__.YouTube object: videoId=j0MymhaZKQI>\n",
      "list index out of range\n",
      "dlding <pytube.__main__.YouTube object: videoId=mfsuS1gIbus>\n",
      "list index out of range\n",
      "dlding <pytube.__main__.YouTube object: videoId=n6R3rx39vWM>\n",
      "list index out of range\n",
      "dlding <pytube.__main__.YouTube object: videoId=ACHhsLDke14>\n",
      "list index out of range\n",
      "dlding <pytube.__main__.YouTube object: videoId=FA2_NBgVkCI>\n",
      "list index out of range\n",
      "dlding <pytube.__main__.YouTube object: videoId=MeOvJY9t9eY>\n",
      "list index out of range\n",
      "dlding <pytube.__main__.YouTube object: videoId=3Sj9ED_cMUc>\n",
      "list index out of range\n",
      "dlding <pytube.__main__.YouTube object: videoId=22IJ--S0GaQ>\n",
      "list index out of range\n",
      "dlding <pytube.__main__.YouTube object: videoId=YXGf3Mejaq4>\n"
     ]
    },
    {
     "name": "stderr",
     "output_type": "stream",
     "text": [
      "\r",
      " 50%|███████████████████████████████████████████████▌                                               | 19/38 [03:36<05:36, 17.73s/it]"
     ]
    },
    {
     "name": "stdout",
     "output_type": "stream",
     "text": [
      "list index out of range\n",
      "https://www.youtube.com/playlist?list=PL_pQQho0KExxyNLHL0-26XyFJKoefLqpK\n",
      "dlding <pytube.__main__.YouTube object: videoId=3hVdiDAVifo>\n",
      "list index out of range\n",
      "dlding <pytube.__main__.YouTube object: videoId=OWrEybKsUY0>\n",
      "list index out of range\n",
      "dlding <pytube.__main__.YouTube object: videoId=WKoOkucI2TE>\n",
      "list index out of range\n",
      "dlding <pytube.__main__.YouTube object: videoId=o4BGUiXcgcw>\n",
      "list index out of range\n",
      "dlding <pytube.__main__.YouTube object: videoId=2BATWYXOBAw>\n",
      "list index out of range\n",
      "dlding <pytube.__main__.YouTube object: videoId=Mr8oSG1AEnQ>\n",
      "list index out of range\n",
      "dlding <pytube.__main__.YouTube object: videoId=oPWneF9Qth4>\n",
      "list index out of range\n",
      "dlding <pytube.__main__.YouTube object: videoId=Q7hEL23BANs>\n",
      "list index out of range\n",
      "dlding <pytube.__main__.YouTube object: videoId=bFkNdhGgpmY>\n",
      "list index out of range\n",
      "dlding <pytube.__main__.YouTube object: videoId=OMjmhJ61fBE>\n",
      "list index out of range\n",
      "dlding <pytube.__main__.YouTube object: videoId=SpgwgGPrFIQ>\n",
      "list index out of range\n",
      "dlding <pytube.__main__.YouTube object: videoId=Ok7psW3izT4>\n",
      "list index out of range\n",
      "dlding <pytube.__main__.YouTube object: videoId=hshGFNDKF9U>\n",
      "list index out of range\n",
      "dlding <pytube.__main__.YouTube object: videoId=WaQ1UjlRfog>\n",
      "list index out of range\n",
      "dlding <pytube.__main__.YouTube object: videoId=MRZQHfEtZO4>\n"
     ]
    },
    {
     "name": "stderr",
     "output_type": "stream",
     "text": [
      "\r",
      " 53%|██████████████████████████████████████████████████                                             | 20/38 [04:13<07:04, 23.60s/it]"
     ]
    },
    {
     "name": "stdout",
     "output_type": "stream",
     "text": [
      "list index out of range\n",
      "https://www.youtube.com/playlist?list=PL_pQQho0KExyWGRBJQz3rk8ffv6aR7F8F\n"
     ]
    },
    {
     "name": "stderr",
     "output_type": "stream",
     "text": [
      "\r",
      " 55%|████████████████████████████████████████████████████▌                                          | 21/38 [04:14<04:46, 16.84s/it]"
     ]
    },
    {
     "name": "stdout",
     "output_type": "stream",
     "text": [
      "https://www.youtube.com/playlist?list=PL_pQQho0KExxfa1oa0rRLOyFfvUR1ZfJx\n"
     ]
    },
    {
     "name": "stderr",
     "output_type": "stream",
     "text": [
      "\r",
      " 58%|███████████████████████████████████████████████████████                                        | 22/38 [04:15<03:14, 12.15s/it]"
     ]
    },
    {
     "name": "stdout",
     "output_type": "stream",
     "text": [
      "https://www.youtube.com/playlist?list=PL_pQQho0KExxvwYrVU_XCw32ViB7FzUBJ\n"
     ]
    },
    {
     "name": "stderr",
     "output_type": "stream",
     "text": [
      "\r",
      " 61%|█████████████████████████████████████████████████████████▌                                     | 23/38 [04:16<02:12,  8.83s/it]"
     ]
    },
    {
     "name": "stdout",
     "output_type": "stream",
     "text": [
      "https://www.youtube.com/playlist?list=PL_pQQho0KExxj81avsx_hNuyRrBFN_zhw\n"
     ]
    },
    {
     "name": "stderr",
     "output_type": "stream",
     "text": [
      "\r",
      " 63%|████████████████████████████████████████████████████████████                                   | 24/38 [04:18<01:33,  6.65s/it]"
     ]
    },
    {
     "name": "stdout",
     "output_type": "stream",
     "text": [
      "https://www.youtube.com/playlist?list=PL_pQQho0KExxC70D2xYlqZwFVI9I11CWD\n"
     ]
    },
    {
     "name": "stderr",
     "output_type": "stream",
     "text": [
      "\r",
      " 66%|██████████████████████████████████████████████████████████████▌                                | 25/38 [04:19<01:05,  5.00s/it]"
     ]
    },
    {
     "name": "stdout",
     "output_type": "stream",
     "text": [
      "https://www.youtube.com/playlist?list=PL_pQQho0KExzMpyhXpsagLc4h20LP713Y\n"
     ]
    },
    {
     "name": "stderr",
     "output_type": "stream",
     "text": [
      "\r",
      " 68%|█████████████████████████████████████████████████████████████████                              | 26/38 [04:20<00:47,  3.98s/it]"
     ]
    },
    {
     "name": "stdout",
     "output_type": "stream",
     "text": [
      "https://www.youtube.com/playlist?list=PL_pQQho0KExw_vnTGVC_15li0-iNL82Xo\n",
      "dlding <pytube.__main__.YouTube object: videoId=nC9uVWdFh4k>\n",
      "function [dld] timeout [60 seconds] exceeded!\n",
      "dlding <pytube.__main__.YouTube object: videoId=NbODomnohgE>\n"
     ]
    },
    {
     "name": "stderr",
     "output_type": "stream",
     "text": [
      "\r",
      " 71%|███████████████████████████████████████████████████████████████████▌                           | 27/38 [06:22<07:11, 39.19s/it]"
     ]
    },
    {
     "name": "stdout",
     "output_type": "stream",
     "text": [
      "function [dld] timeout [60 seconds] exceeded!\n",
      "https://www.youtube.com/playlist?list=PL_pQQho0KExy7-82T9HpN_mFh83f__SGG\n"
     ]
    },
    {
     "name": "stderr",
     "output_type": "stream",
     "text": [
      "\r",
      " 74%|██████████████████████████████████████████████████████████████████████                         | 28/38 [06:23<04:38, 27.89s/it]"
     ]
    },
    {
     "name": "stdout",
     "output_type": "stream",
     "text": [
      "https://www.youtube.com/playlist?list=PL_pQQho0KExwzqFlkksuQNcF-KJlTbkiM\n",
      "dlding <pytube.__main__.YouTube object: videoId=eoYtFGYe41I>\n"
     ]
    },
    {
     "name": "stderr",
     "output_type": "stream",
     "text": [
      "\r",
      " 76%|████████████████████████████████████████████████████████████████████████▌                      | 29/38 [07:24<05:40, 37.82s/it]"
     ]
    },
    {
     "name": "stdout",
     "output_type": "stream",
     "text": [
      "function [dld] timeout [60 seconds] exceeded!\n",
      "https://www.youtube.com/playlist?list=PL_pQQho0KExwF7S10h50apEi9cmHHgYeN\n",
      "dlding <pytube.__main__.YouTube object: videoId=yiOgbaDcFJY>\n"
     ]
    },
    {
     "name": "stderr",
     "output_type": "stream",
     "text": [
      "\r",
      " 79%|███████████████████████████████████████████████████████████████████████████                    | 30/38 [08:26<05:59, 44.89s/it]"
     ]
    },
    {
     "name": "stdout",
     "output_type": "stream",
     "text": [
      "function [dld] timeout [60 seconds] exceeded!\n",
      "https://www.youtube.com/playlist?list=PL_pQQho0KExyvkiolkj11DPsPnYbJ99xf\n",
      "dlding <pytube.__main__.YouTube object: videoId=o5xKfFnhFDs>\n"
     ]
    },
    {
     "name": "stderr",
     "output_type": "stream",
     "text": [
      "\r",
      " 82%|█████████████████████████████████████████████████████████████████████████████▌                 | 31/38 [09:28<05:51, 50.16s/it]"
     ]
    },
    {
     "name": "stdout",
     "output_type": "stream",
     "text": [
      "function [dld] timeout [60 seconds] exceeded!\n",
      "https://www.youtube.com/playlist?list=PL_pQQho0KExy7P2io_hYjwmpJAhy2nRi7\n",
      "dlding <pytube.__main__.YouTube object: videoId=EyIR4QUNMKE>\n",
      "list index out of range\n",
      "dlding <pytube.__main__.YouTube object: videoId=QLqBZQyBXO0>\n",
      "list index out of range\n",
      "dlding <pytube.__main__.YouTube object: videoId=Fp_Z-O2WbT4>\n",
      "list index out of range\n",
      "dlding <pytube.__main__.YouTube object: videoId=inmRjJbEffk>\n",
      "list index out of range\n",
      "dlding <pytube.__main__.YouTube object: videoId=7j7-8DO_500>\n",
      "list index out of range\n",
      "dlding <pytube.__main__.YouTube object: videoId=cVafUdmA_Tk>\n",
      "list index out of range\n",
      "dlding <pytube.__main__.YouTube object: videoId=bH3drPAA0Ck>\n",
      "list index out of range\n",
      "dlding <pytube.__main__.YouTube object: videoId=FAlOZyNi6ic>\n",
      "list index out of range\n",
      "dlding <pytube.__main__.YouTube object: videoId=q0U2DAQIO_U>\n",
      "list index out of range\n",
      "dlding <pytube.__main__.YouTube object: videoId=bCurcjTJRfo>\n",
      "list index out of range\n",
      "dlding <pytube.__main__.YouTube object: videoId=zTgM13Oh6ak>\n",
      "list index out of range\n",
      "dlding <pytube.__main__.YouTube object: videoId=aNEFkHIj3Sk>\n",
      "list index out of range\n",
      "dlding <pytube.__main__.YouTube object: videoId=_nBlPkG5PCc>\n",
      "list index out of range\n",
      "dlding <pytube.__main__.YouTube object: videoId=W28DXlCryQs>\n",
      "list index out of range\n",
      "dlding <pytube.__main__.YouTube object: videoId=wPfFrclxfqE>\n",
      "list index out of range\n",
      "dlding <pytube.__main__.YouTube object: videoId=kc67B5pE4FQ>\n"
     ]
    },
    {
     "name": "stderr",
     "output_type": "stream",
     "text": [
      "\r",
      " 84%|████████████████████████████████████████████████████████████████████████████████               | 32/38 [12:05<08:13, 82.20s/it]"
     ]
    },
    {
     "name": "stdout",
     "output_type": "stream",
     "text": [
      "list index out of range\n",
      "https://www.youtube.com/playlist?list=PL_pQQho0KExxRjnWOoI1F3awGLxfQScqn\n",
      "dlding <pytube.__main__.YouTube object: videoId=RSAL_sZpScM>\n",
      "list index out of range\n",
      "dlding <pytube.__main__.YouTube object: videoId=NINPqQBlK1g>\n",
      "list index out of range\n",
      "dlding <pytube.__main__.YouTube object: videoId=4GcO7gDciHg>\n",
      "list index out of range\n",
      "dlding <pytube.__main__.YouTube object: videoId=gIgzzwP5qSA>\n",
      "list index out of range\n",
      "dlding <pytube.__main__.YouTube object: videoId=5eoHrXTZHuU>\n",
      "list index out of range\n",
      "dlding <pytube.__main__.YouTube object: videoId=SPSIuU_JwZA>\n",
      "list index out of range\n",
      "dlding <pytube.__main__.YouTube object: videoId=4zPUJt-rLqA>\n",
      "list index out of range\n",
      "dlding <pytube.__main__.YouTube object: videoId=nf0LTaUEoRg>\n",
      "list index out of range\n",
      "dlding <pytube.__main__.YouTube object: videoId=r7qNXP6OlOk>\n",
      "list index out of range\n",
      "dlding <pytube.__main__.YouTube object: videoId=FFzdjYQdQfQ>\n",
      "list index out of range\n",
      "dlding <pytube.__main__.YouTube object: videoId=9dzxLFap4p0>\n",
      "list index out of range\n",
      "dlding <pytube.__main__.YouTube object: videoId=3Drwa6usBRI>\n",
      "list index out of range\n",
      "dlding <pytube.__main__.YouTube object: videoId=SX9qutLF04I>\n",
      "list index out of range\n",
      "dlding <pytube.__main__.YouTube object: videoId=od9I7gtjsHM>\n",
      "list index out of range\n",
      "dlding <pytube.__main__.YouTube object: videoId=WR8UrWcB_4c>\n",
      "list index out of range\n",
      "dlding <pytube.__main__.YouTube object: videoId=EMC35sSQSCQ>\n",
      "list index out of range\n",
      "dlding <pytube.__main__.YouTube object: videoId=hY3k5vNRsuI>\n",
      "function [dld] timeout [60 seconds] exceeded!\n",
      "dlding <pytube.__main__.YouTube object: videoId=Ut8mCa1LYBE>\n"
     ]
    },
    {
     "name": "stderr",
     "output_type": "stream",
     "text": [
      "\r",
      " 87%|█████████████████████████████████████████████████████████████████████████████████▋            | 33/38 [16:17<11:05, 133.20s/it]"
     ]
    },
    {
     "name": "stdout",
     "output_type": "stream",
     "text": [
      "function [dld] timeout [60 seconds] exceeded!\n",
      "https://www.youtube.com/playlist?list=PL_pQQho0KExxS1uJbDCscWW8CocoVCLSn\n",
      "dlding <pytube.__main__.YouTube object: videoId=ZNxPZq668hE>\n",
      "list index out of range\n",
      "dlding <pytube.__main__.YouTube object: videoId=hhLJ_HqiDuw>\n",
      "list index out of range\n",
      "dlding <pytube.__main__.YouTube object: videoId=7pxEgKMG1jE>\n",
      "list index out of range\n",
      "dlding <pytube.__main__.YouTube object: videoId=mfY8eJLahII>\n",
      "list index out of range\n",
      "dlding <pytube.__main__.YouTube object: videoId=SuG-8NLmA1c>\n",
      "list index out of range\n",
      "dlding <pytube.__main__.YouTube object: videoId=f3CMCPt1fhg>\n",
      "list index out of range\n",
      "dlding <pytube.__main__.YouTube object: videoId=xQrRQtX8FUA>\n",
      "list index out of range\n",
      "dlding <pytube.__main__.YouTube object: videoId=0DRfPPzc3wU>\n",
      "list index out of range\n",
      "dlding <pytube.__main__.YouTube object: videoId=Jd6X78qBYjY>\n",
      "list index out of range\n",
      "dlding <pytube.__main__.YouTube object: videoId=sod9uvhe-L8>\n",
      "list index out of range\n",
      "dlding <pytube.__main__.YouTube object: videoId=Re16uLNOtD0>\n",
      "list index out of range\n",
      "dlding <pytube.__main__.YouTube object: videoId=Egzb7GKncag>\n",
      "list index out of range\n",
      "dlding <pytube.__main__.YouTube object: videoId=dmv9TGU2ZMk>\n",
      "HTTP Error 404: Not Found\n",
      "dlding <pytube.__main__.YouTube object: videoId=3k20CPLo1ZM>\n",
      "list index out of range\n",
      "dlding <pytube.__main__.YouTube object: videoId=dVTolwd1eB4>\n",
      "list index out of range\n",
      "dlding <pytube.__main__.YouTube object: videoId=mlqyF65u2GU>\n",
      "list index out of range\n",
      "dlding <pytube.__main__.YouTube object: videoId=HnbRLtCYjfA>\n",
      "function [dld] timeout [60 seconds] exceeded!\n",
      "dlding <pytube.__main__.YouTube object: videoId=FIzrOZSBvzQ>\n",
      "function [dld] timeout [60 seconds] exceeded!\n",
      "dlding <pytube.__main__.YouTube object: videoId=GnG2OiAlkic>\n",
      "list index out of range\n",
      "dlding <pytube.__main__.YouTube object: videoId=CbOFhAM_ChM>\n",
      "list index out of range\n",
      "dlding <pytube.__main__.YouTube object: videoId=nXQsJN1RSBI>\n",
      "list index out of range\n",
      "dlding <pytube.__main__.YouTube object: videoId=_X1OKCjT4r0>\n",
      "list index out of range\n",
      "dlding <pytube.__main__.YouTube object: videoId=nKHpmIgWX3I>\n",
      "list index out of range\n",
      "dlding <pytube.__main__.YouTube object: videoId=Pr38Kg2_m-E>\n",
      "list index out of range\n",
      "dlding <pytube.__main__.YouTube object: videoId=hDjVMyG6L9c>\n",
      "list index out of range\n",
      "dlding <pytube.__main__.YouTube object: videoId=iuwy-vlgvq0>\n",
      "list index out of range\n",
      "dlding <pytube.__main__.YouTube object: videoId=OYok-U2gIF4>\n",
      "function [dld] timeout [60 seconds] exceeded!\n",
      "dlding <pytube.__main__.YouTube object: videoId=AuDVJfvsLzM>\n",
      "function [dld] timeout [60 seconds] exceeded!\n",
      "dlding <pytube.__main__.YouTube object: videoId=JNtMt-G2_FY>\n",
      "function [dld] timeout [60 seconds] exceeded!\n",
      "dlding <pytube.__main__.YouTube object: videoId=BecaBPSnGOc>\n",
      "function [dld] timeout [60 seconds] exceeded!\n",
      "dlding <pytube.__main__.YouTube object: videoId=RmvkA03xOCY>\n",
      "function [dld] timeout [60 seconds] exceeded!\n",
      "dlding <pytube.__main__.YouTube object: videoId=HxDB72raPTo>\n",
      "function [dld] timeout [60 seconds] exceeded!\n",
      "dlding <pytube.__main__.YouTube object: videoId=5CAWV76cCIA>\n",
      "function [dld] timeout [60 seconds] exceeded!\n",
      "dlding <pytube.__main__.YouTube object: videoId=PTAe3O6rmAA>\n",
      "function [dld] timeout [60 seconds] exceeded!\n",
      "dlding <pytube.__main__.YouTube object: videoId=E3ieQWwLvS0>\n",
      "function [dld] timeout [60 seconds] exceeded!\n",
      "dlding <pytube.__main__.YouTube object: videoId=UEmfqghE6yQ>\n",
      "function [dld] timeout [60 seconds] exceeded!\n",
      "dlding <pytube.__main__.YouTube object: videoId=hLnTOQyRGp0>\n",
      "function [dld] timeout [60 seconds] exceeded!\n",
      "dlding <pytube.__main__.YouTube object: videoId=y5BTWDOdu3k>\n"
     ]
    },
    {
     "name": "stderr",
     "output_type": "stream",
     "text": [
      "\r",
      " 89%|████████████████████████████████████████████████████████████████████████████████████          | 34/38 [33:14<26:32, 398.21s/it]"
     ]
    },
    {
     "name": "stdout",
     "output_type": "stream",
     "text": [
      "function [dld] timeout [60 seconds] exceeded!\n",
      "https://www.youtube.com/playlist?list=PL_pQQho0KExwiPdYCv8FFJ_nArdALYF96\n",
      "dlding <pytube.__main__.YouTube object: videoId=8GMulB_dj2Y>\n",
      "list index out of range\n",
      "dlding <pytube.__main__.YouTube object: videoId=NIlRG6HvaoU>\n",
      "list index out of range\n",
      "dlding <pytube.__main__.YouTube object: videoId=WvTT2TYp5l4>\n",
      "list index out of range\n",
      "dlding <pytube.__main__.YouTube object: videoId=5md__U4Xmx8>\n",
      "list index out of range\n",
      "dlding <pytube.__main__.YouTube object: videoId=h3h5yl42-zQ>\n",
      "function [dld] timeout [60 seconds] exceeded!\n",
      "dlding <pytube.__main__.YouTube object: videoId=mzU5pvH5rSk>\n",
      "function [dld] timeout [60 seconds] exceeded!\n",
      "dlding <pytube.__main__.YouTube object: videoId=Kmh8L3Ddjg4>\n",
      "list index out of range\n",
      "dlding <pytube.__main__.YouTube object: videoId=yu6kAjyoUJk>\n",
      "list index out of range\n",
      "dlding <pytube.__main__.YouTube object: videoId=JcSWCNaKTlM>\n",
      "list index out of range\n",
      "dlding <pytube.__main__.YouTube object: videoId=IBVf7ffHU6k>\n",
      "list index out of range\n",
      "dlding <pytube.__main__.YouTube object: videoId=ylqn-D8I9H4>\n",
      "function [dld] timeout [60 seconds] exceeded!\n",
      "dlding <pytube.__main__.YouTube object: videoId=uZGVjyfD4DA>\n",
      "function [dld] timeout [60 seconds] exceeded!\n",
      "dlding <pytube.__main__.YouTube object: videoId=zu7DmHvj6xQ>\n",
      "list index out of range\n",
      "dlding <pytube.__main__.YouTube object: videoId=hWP8BCd6gF8>\n",
      "list index out of range\n",
      "dlding <pytube.__main__.YouTube object: videoId=lS0vpcKw8n4>\n",
      "list index out of range\n",
      "dlding <pytube.__main__.YouTube object: videoId=02t2_CmFjYI>\n",
      "list index out of range\n",
      "dlding <pytube.__main__.YouTube object: videoId=N7LRdQBcFJw>\n",
      "function [dld] timeout [60 seconds] exceeded!\n",
      "dlding <pytube.__main__.YouTube object: videoId=0ZdkS0KsWpw>\n",
      "list index out of range\n",
      "dlding <pytube.__main__.YouTube object: videoId=Uj-3Ys57JCs>\n",
      "list index out of range\n",
      "dlding <pytube.__main__.YouTube object: videoId=_9HxfFO6xaA>\n",
      "list index out of range\n",
      "dlding <pytube.__main__.YouTube object: videoId=ZtHYrLZdl6Q>\n",
      "list index out of range\n",
      "dlding <pytube.__main__.YouTube object: videoId=mAELntn7wBE>\n",
      "list index out of range\n",
      "dlding <pytube.__main__.YouTube object: videoId=3c1yWngFkB8>\n",
      "list index out of range\n",
      "dlding <pytube.__main__.YouTube object: videoId=HWFQjOYmjXU>\n",
      "list index out of range\n",
      "dlding <pytube.__main__.YouTube object: videoId=EqIG6sUuYFA>\n",
      "list index out of range\n",
      "dlding <pytube.__main__.YouTube object: videoId=ujtJrE2iMPU>\n",
      "list index out of range\n",
      "dlding <pytube.__main__.YouTube object: videoId=QUmkaVbSk4Y>\n",
      "list index out of range\n",
      "dlding <pytube.__main__.YouTube object: videoId=xHjr5xaU2V8>\n",
      "list index out of range\n",
      "dlding <pytube.__main__.YouTube object: videoId=sxqpn1Wl6DI>\n",
      "list index out of range\n",
      "dlding <pytube.__main__.YouTube object: videoId=Z-WYxY1qVto>\n",
      "function [dld] timeout [60 seconds] exceeded!\n",
      "dlding <pytube.__main__.YouTube object: videoId=SfydU6zlZ8w>\n",
      "function [dld] timeout [60 seconds] exceeded!\n",
      "dlding <pytube.__main__.YouTube object: videoId=u855x7BBwdE>\n",
      "function [dld] timeout [60 seconds] exceeded!\n",
      "dlding <pytube.__main__.YouTube object: videoId=JQEKlCUf8wg>\n",
      "function [dld] timeout [60 seconds] exceeded!\n",
      "dlding <pytube.__main__.YouTube object: videoId=qlv4qPDriNI>\n"
     ]
    },
    {
     "name": "stderr",
     "output_type": "stream",
     "text": [
      "\r",
      " 92%|██████████████████████████████████████████████████████████████████████████████████████▌       | 35/38 [46:35<25:57, 519.12s/it]"
     ]
    },
    {
     "name": "stdout",
     "output_type": "stream",
     "text": [
      "list index out of range\n",
      "https://www.youtube.com/playlist?list=PL_pQQho0KExy8rECJSNEToCBAwI2u94AP\n",
      "dlding <pytube.__main__.YouTube object: videoId=xGh1XksF9Ts>\n",
      "list index out of range\n",
      "dlding <pytube.__main__.YouTube object: videoId=VqGiSBtY8Jg>\n",
      "list index out of range\n",
      "dlding <pytube.__main__.YouTube object: videoId=qBZa2MhIalE>\n",
      "list index out of range\n",
      "dlding <pytube.__main__.YouTube object: videoId=HXUjuzobZgo>\n",
      "list index out of range\n",
      "dlding <pytube.__main__.YouTube object: videoId=mfBhJn0vJvg>\n",
      "list index out of range\n",
      "dlding <pytube.__main__.YouTube object: videoId=vxj1xW1qbE8>\n",
      "list index out of range\n",
      "dlding <pytube.__main__.YouTube object: videoId=JLccqQOufxY>\n",
      "list index out of range\n",
      "dlding <pytube.__main__.YouTube object: videoId=pwKDeS7dvmM>\n",
      "list index out of range\n",
      "dlding <pytube.__main__.YouTube object: videoId=BL6YUoTvp9g>\n",
      "list index out of range\n",
      "dlding <pytube.__main__.YouTube object: videoId=u_cM8FAOkeI>\n",
      "list index out of range\n",
      "dlding <pytube.__main__.YouTube object: videoId=VT5diXZ3Y4Y>\n",
      "list index out of range\n",
      "dlding <pytube.__main__.YouTube object: videoId=LzpCgQvVHA8>\n",
      "list index out of range\n",
      "dlding <pytube.__main__.YouTube object: videoId=q8IGrhNp-ww>\n",
      "list index out of range\n",
      "dlding <pytube.__main__.YouTube object: videoId=5YE4xUxv-rY>\n",
      "list index out of range\n",
      "dlding <pytube.__main__.YouTube object: videoId=ndWudfHcFGs>\n",
      "list index out of range\n",
      "dlding <pytube.__main__.YouTube object: videoId=al3nqibibgA>\n",
      "list index out of range\n",
      "dlding <pytube.__main__.YouTube object: videoId=_g7zhNxtblk>\n",
      "list index out of range\n",
      "dlding <pytube.__main__.YouTube object: videoId=4-RlxOe6ZuE>\n",
      "list index out of range\n",
      "dlding <pytube.__main__.YouTube object: videoId=WB-oE9Yrl94>\n",
      "list index out of range\n",
      "dlding <pytube.__main__.YouTube object: videoId=DUYsfjjnj5g>\n",
      "list index out of range\n",
      "dlding <pytube.__main__.YouTube object: videoId=8Lqo6HFGEa4>\n",
      "list index out of range\n",
      "dlding <pytube.__main__.YouTube object: videoId=mJA3NTm7xGU>\n",
      "list index out of range\n",
      "dlding <pytube.__main__.YouTube object: videoId=JhFYUP-4bmk>\n",
      "list index out of range\n",
      "dlding <pytube.__main__.YouTube object: videoId=LrUk2uyqB9Q>\n",
      "list index out of range\n",
      "dlding <pytube.__main__.YouTube object: videoId=xq9iK1zM-DU>\n",
      "list index out of range\n",
      "dlding <pytube.__main__.YouTube object: videoId=iWoZ1DKhdps>\n",
      "list index out of range\n",
      "dlding <pytube.__main__.YouTube object: videoId=DxqpsLMknVQ>\n",
      "list index out of range\n",
      "dlding <pytube.__main__.YouTube object: videoId=_BT_AvkAQyQ>\n",
      "list index out of range\n",
      "dlding <pytube.__main__.YouTube object: videoId=DlpL1nhPEw0>\n",
      "list index out of range\n",
      "dlding <pytube.__main__.YouTube object: videoId=i1D7bUqkdIU>\n",
      "list index out of range\n",
      "dlding <pytube.__main__.YouTube object: videoId=0ufFv_ZFH3w>\n",
      "list index out of range\n",
      "dlding <pytube.__main__.YouTube object: videoId=qF7-M69SpV0>\n",
      "list index out of range\n",
      "dlding <pytube.__main__.YouTube object: videoId=XbuQTzfWTgM>\n",
      "list index out of range\n",
      "dlding <pytube.__main__.YouTube object: videoId=QqHqP6zJq14>\n",
      "list index out of range\n",
      "dlding <pytube.__main__.YouTube object: videoId=VhHY9t_U9Kw>\n",
      "list index out of range\n",
      "dlding <pytube.__main__.YouTube object: videoId=opQWkZQjrvM>\n",
      "list index out of range\n",
      "dlding <pytube.__main__.YouTube object: videoId=7h0y3M7twG0>\n",
      "list index out of range\n",
      "dlding <pytube.__main__.YouTube object: videoId=AQw7HH4Wqwk>\n",
      "list index out of range\n",
      "dlding <pytube.__main__.YouTube object: videoId=oeDx0NYCWjI>\n",
      "list index out of range\n",
      "dlding <pytube.__main__.YouTube object: videoId=PRtWy-8S4sA>\n",
      "list index out of range\n",
      "dlding <pytube.__main__.YouTube object: videoId=npyIMdGX08M>\n",
      "list index out of range\n",
      "dlding <pytube.__main__.YouTube object: videoId=rcAM52-yH5M>\n",
      "list index out of range\n",
      "dlding <pytube.__main__.YouTube object: videoId=0haJddItEY8>\n",
      "list index out of range\n",
      "dlding <pytube.__main__.YouTube object: videoId=fuWErtmkav8>\n",
      "list index out of range\n",
      "dlding <pytube.__main__.YouTube object: videoId=SgLNbraHKZw>\n",
      "list index out of range\n",
      "dlding <pytube.__main__.YouTube object: videoId=bxq36luBFE4>\n",
      "list index out of range\n",
      "dlding <pytube.__main__.YouTube object: videoId=ijxteNFQPP4>\n",
      "list index out of range\n",
      "dlding <pytube.__main__.YouTube object: videoId=1NhuxLEg-gs>\n",
      "list index out of range\n",
      "dlding <pytube.__main__.YouTube object: videoId=TbcRC3umRLg>\n",
      "list index out of range\n",
      "dlding <pytube.__main__.YouTube object: videoId=hA3tt0ISLyU>\n",
      "list index out of range\n",
      "dlding <pytube.__main__.YouTube object: videoId=HGdzjBtMmJw>\n",
      "list index out of range\n",
      "dlding <pytube.__main__.YouTube object: videoId=1h0ueDiU3Co>\n",
      "list index out of range\n",
      "dlding <pytube.__main__.YouTube object: videoId=rY13KCGme0o>\n",
      "list index out of range\n",
      "dlding <pytube.__main__.YouTube object: videoId=Ph_SsGm-aqI>\n",
      "list index out of range\n",
      "dlding <pytube.__main__.YouTube object: videoId=Q31KFYBPoMo>\n"
     ]
    },
    {
     "name": "stderr",
     "output_type": "stream",
     "text": [
      "\r",
      " 95%|█████████████████████████████████████████████████████████████████████████████████████████     | 36/38 [54:44<17:00, 510.03s/it]"
     ]
    },
    {
     "name": "stdout",
     "output_type": "stream",
     "text": [
      "list index out of range\n",
      "https://www.youtube.com/playlist?list=PL_pQQho0KExxBTI4uhJvMWjvXdn-TKBfs\n",
      "dlding <pytube.__main__.YouTube object: videoId=YRekO0O7rSY>\n",
      "list index out of range\n",
      "dlding <pytube.__main__.YouTube object: videoId=pWZyJwHemSA>\n",
      "list index out of range\n",
      "dlding <pytube.__main__.YouTube object: videoId=SQRduNQEkEg>\n",
      "list index out of range\n",
      "dlding <pytube.__main__.YouTube object: videoId=q1u2S1JuFDE>\n",
      "list index out of range\n",
      "dlding <pytube.__main__.YouTube object: videoId=WNV9Xcdk5dQ>\n",
      "list index out of range\n",
      "dlding <pytube.__main__.YouTube object: videoId=bykW7A-SDgM>\n",
      "list index out of range\n",
      "dlding <pytube.__main__.YouTube object: videoId=mvxAy3U2ihI>\n",
      "list index out of range\n",
      "dlding <pytube.__main__.YouTube object: videoId=CPEuqV5FAYg>\n",
      "list index out of range\n",
      "dlding <pytube.__main__.YouTube object: videoId=ZrJJikmZQeA>\n",
      "list index out of range\n",
      "dlding <pytube.__main__.YouTube object: videoId=VYWPmujVa28>\n",
      "list index out of range\n",
      "dlding <pytube.__main__.YouTube object: videoId=GaehnVradK0>\n",
      "list index out of range\n",
      "dlding <pytube.__main__.YouTube object: videoId=BRXVmmf4eeQ>\n",
      "list index out of range\n",
      "dlding <pytube.__main__.YouTube object: videoId=O440rKTEmZs>\n",
      "list index out of range\n",
      "dlding <pytube.__main__.YouTube object: videoId=ovZbcGiQ_m8>\n",
      "list index out of range\n",
      "dlding <pytube.__main__.YouTube object: videoId=_RLBc49grkE>\n",
      "list index out of range\n",
      "dlding <pytube.__main__.YouTube object: videoId=iNa7TJi2Lec>\n",
      "list index out of range\n",
      "dlding <pytube.__main__.YouTube object: videoId=v1Im0e7FFbo>\n",
      "list index out of range\n",
      "dlding <pytube.__main__.YouTube object: videoId=58RffoZm_ho>\n",
      "list index out of range\n",
      "dlding <pytube.__main__.YouTube object: videoId=9P76dS9jCPg>\n",
      "list index out of range\n",
      "dlding <pytube.__main__.YouTube object: videoId=oARFMFDfPDQ>\n",
      "list index out of range\n",
      "dlding <pytube.__main__.YouTube object: videoId=oa2cUfpjRB8>\n",
      "list index out of range\n",
      "dlding <pytube.__main__.YouTube object: videoId=bDLaSH6Qwbw>\n",
      "list index out of range\n",
      "dlding <pytube.__main__.YouTube object: videoId=YujtMxw1azM>\n",
      "list index out of range\n",
      "dlding <pytube.__main__.YouTube object: videoId=dYIV-QiC7XI>\n",
      "list index out of range\n",
      "dlding <pytube.__main__.YouTube object: videoId=3plXwLGn4yM>\n",
      "list index out of range\n",
      "dlding <pytube.__main__.YouTube object: videoId=3pW89CrIUNY>\n",
      "list index out of range\n",
      "dlding <pytube.__main__.YouTube object: videoId=rHZ6FyV6x3g>\n",
      "list index out of range\n",
      "dlding <pytube.__main__.YouTube object: videoId=29OxE9NOAaY>\n",
      "list index out of range\n",
      "dlding <pytube.__main__.YouTube object: videoId=hSbJaW-9E_8>\n",
      "list index out of range\n",
      "dlding <pytube.__main__.YouTube object: videoId=YSeodi2Crk8>\n",
      "list index out of range\n",
      "dlding <pytube.__main__.YouTube object: videoId=bI9CTfIwXr0>\n",
      "list index out of range\n",
      "dlding <pytube.__main__.YouTube object: videoId=rdHgMGY7uuI>\n",
      "list index out of range\n",
      "dlding <pytube.__main__.YouTube object: videoId=UoLyvkdaIQo>\n",
      "list index out of range\n",
      "dlding <pytube.__main__.YouTube object: videoId=lrNnVu4eYCc>\n",
      "list index out of range\n",
      "dlding <pytube.__main__.YouTube object: videoId=IQul2y2tDNk>\n",
      "list index out of range\n",
      "dlding <pytube.__main__.YouTube object: videoId=1JNWfMWLnwY>\n",
      "list index out of range\n",
      "dlding <pytube.__main__.YouTube object: videoId=uaq6MqWDEIg>\n",
      "list index out of range\n",
      "dlding <pytube.__main__.YouTube object: videoId=mWHTpconte4>\n",
      "list index out of range\n",
      "dlding <pytube.__main__.YouTube object: videoId=IDgWPCKOXJg>\n",
      "list index out of range\n",
      "dlding <pytube.__main__.YouTube object: videoId=aHx_74k48lY>\n"
     ]
    },
    {
     "name": "stderr",
     "output_type": "stream",
     "text": [
      "\r",
      " 97%|█████████████████████████████████████████████████████████████████████████████████████████▌  | 37/38 [1:00:34<07:42, 462.10s/it]"
     ]
    },
    {
     "name": "stdout",
     "output_type": "stream",
     "text": [
      "list index out of range\n",
      "https://www.youtube.com/playlist?list=PL_pQQho0KExyfHXYBRQrKurPfVp1v9DCY\n",
      "dlding <pytube.__main__.YouTube object: videoId=5OQUlQgZWcA>\n",
      "list index out of range\n",
      "dlding <pytube.__main__.YouTube object: videoId=Z3kWQ0QGV8E>\n",
      "list index out of range\n",
      "dlding <pytube.__main__.YouTube object: videoId=6_eQNVF4v1w>\n",
      "list index out of range\n",
      "dlding <pytube.__main__.YouTube object: videoId=uhDvYxYAupA>\n",
      "list index out of range\n",
      "dlding <pytube.__main__.YouTube object: videoId=A-CiSvGX2rk>\n",
      "list index out of range\n",
      "dlding <pytube.__main__.YouTube object: videoId=93GnfpiTibc>\n",
      "list index out of range\n",
      "dlding <pytube.__main__.YouTube object: videoId=Wz20OKrNXNI>\n",
      "list index out of range\n",
      "dlding <pytube.__main__.YouTube object: videoId=5WiLfNK41_4>\n",
      "list index out of range\n",
      "dlding <pytube.__main__.YouTube object: videoId=4-JqmGXPyv4>\n",
      "list index out of range\n",
      "dlding <pytube.__main__.YouTube object: videoId=uCD4AEenx5A>\n",
      "list index out of range\n",
      "dlding <pytube.__main__.YouTube object: videoId=JxyBQSEInTc>\n",
      "list index out of range\n",
      "dlding <pytube.__main__.YouTube object: videoId=-6s9ZSzwojA>\n",
      "list index out of range\n",
      "dlding <pytube.__main__.YouTube object: videoId=9Z9ZRKlrJC0>\n",
      "list index out of range\n",
      "dlding <pytube.__main__.YouTube object: videoId=gQJVBIEkzjQ>\n",
      "list index out of range\n",
      "dlding <pytube.__main__.YouTube object: videoId=0SMnwMjRMi4>\n",
      "list index out of range\n",
      "dlding <pytube.__main__.YouTube object: videoId=GmDK1ncJ2wU>\n",
      "list index out of range\n",
      "dlding <pytube.__main__.YouTube object: videoId=EST34uZYbDo>\n",
      "list index out of range\n",
      "dlding <pytube.__main__.YouTube object: videoId=in82KSnY8CI>\n",
      "list index out of range\n",
      "dlding <pytube.__main__.YouTube object: videoId=iKIOChO5q8Y>\n",
      "list index out of range\n",
      "dlding <pytube.__main__.YouTube object: videoId=zz5_j9J9o90>\n",
      "list index out of range\n",
      "dlding <pytube.__main__.YouTube object: videoId=uznpD1zBKK8>\n",
      "list index out of range\n",
      "dlding <pytube.__main__.YouTube object: videoId=Dv-sn_iV9Yg>\n",
      "list index out of range\n",
      "dlding <pytube.__main__.YouTube object: videoId=BNfmRwjQqBo>\n",
      "list index out of range\n",
      "dlding <pytube.__main__.YouTube object: videoId=5JoIWAgbXqE>\n"
     ]
    },
    {
     "name": "stderr",
     "output_type": "stream",
     "text": [
      "100%|█████████████████████████████████████████████████████████████████████████████████████████████| 38/38 [1:03:12<00:00, 99.79s/it]"
     ]
    },
    {
     "name": "stdout",
     "output_type": "stream",
     "text": [
      "list index out of range\n"
     ]
    },
    {
     "name": "stderr",
     "output_type": "stream",
     "text": [
      "\n"
     ]
    }
   ],
   "source": [
    "text_file = open(\"playlists.txt\", \"r\")\n",
    "playlists = text_file.read().split('\\n')\n",
    "print(\"First 3 links:\", playlists[:3])\n",
    "text_file.close()\n",
    "\n",
    "\n",
    "\n",
    "for p in tqdm(playlists):\n",
    "    print(p)\n",
    "    download_playlist(p)"
   ]
  },
  {
   "cell_type": "code",
   "execution_count": 5,
   "id": "067e472e",
   "metadata": {},
   "outputs": [],
   "source": [
    "# for video in Playlist('https://www.youtube.com/playlist?list=PL_pQQho0KExy7P2io_hYjwmpJAhy2nRi7'):\n",
    "#     print(YouTube(video).streams.filter(file_extension='mp4', progressive=True, res='360p', fps=25)[0])"
   ]
  },
  {
   "cell_type": "code",
   "execution_count": 6,
   "id": "af622dd4",
   "metadata": {},
   "outputs": [],
   "source": [
    "# YouTube(video).streams"
   ]
  },
  {
   "cell_type": "code",
   "execution_count": null,
   "id": "5449be76",
   "metadata": {},
   "outputs": [],
   "source": []
  }
 ],
 "metadata": {
  "kernelspec": {
   "display_name": "Python 3",
   "language": "python",
   "name": "python3"
  },
  "language_info": {
   "codemirror_mode": {
    "name": "ipython",
    "version": 3
   },
   "file_extension": ".py",
   "mimetype": "text/x-python",
   "name": "python",
   "nbconvert_exporter": "python",
   "pygments_lexer": "ipython3",
   "version": "3.8.8"
  }
 },
 "nbformat": 4,
 "nbformat_minor": 5
}
